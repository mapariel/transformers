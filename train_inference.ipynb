{
 "cells": [
  {
   "cell_type": "code",
   "execution_count": null,
   "id": "308f8043",
   "metadata": {},
   "outputs": [],
   "source": [
    "import torch \n",
    "import torch.nn as nn \n",
    "import sys \n",
    "from pathlib import Path\n",
    "import math \n",
    "from utils import simple_cleansing\n",
    "from data import TransformerDataset\n",
    "from model import Model\n",
    "\n",
    "from inference import generate_text\n",
    "from torch import cuda\n",
    "\n",
    "from time import perf_counter\n",
    "from torch.utils.data import DataLoader\n",
    "import csv\n",
    "\n",
    "import numpy as np "
   ]
  },
  {
   "cell_type": "code",
   "execution_count": null,
   "id": "a10b7b80",
   "metadata": {},
   "outputs": [],
   "source": []
  },
  {
   "cell_type": "code",
   "execution_count": null,
   "id": "badc828e",
   "metadata": {},
   "outputs": [],
   "source": [
    "n_sequence = 50 \n",
    "path = Path('texts/Pride_and_Prejudice.txt')\n",
    "dataset = TransformerDataset(path.read_text(),n_sequence)\n",
    "loader = DataLoader(dataset, batch_size=10, shuffle=True)\n",
    "\n",
    "\n",
    "n_features = 256 \n",
    "n_heads = 4 \n",
    "n_vocabulary = len(dataset.vocabulary)\n",
    "\n",
    "model = Model(n_vocabulary, n_heads, n_features)\n",
    "\n",
    "epochs = 20\n",
    "\n"
   ]
  },
  {
   "cell_type": "code",
   "execution_count": null,
   "id": "b1cd9126",
   "metadata": {},
   "outputs": [],
   "source": []
  },
  {
   "cell_type": "code",
   "execution_count": null,
   "id": "12d897a0",
   "metadata": {},
   "outputs": [],
   "source": [
    "ce_loss = torch.nn.CrossEntropyLoss()\n",
    "optimizer = torch.optim.Adam(model.parameters(), lr=0.001)\n",
    "device = 'cuda:0' if cuda.is_available() else 'cpu'\n",
    "model = model.to(device)\n",
    "\n",
    "# Text of the output\n",
    "print(f'Start the training for {epochs} epochs')\n",
    "\n",
    "total_time = 0  # Time consumed from the first epoch\n",
    "\n",
    "model.train()\n",
    "epoch_accuracies = []  # The list of the average accuracies for each epoch\n",
    "epoch_losses = []  # The list of the average losses for each epoch\n",
    "\n",
    "for epoch in range(1, epochs):\n",
    "    tic = perf_counter()\n",
    "\n",
    "    running_loss = []  # Loss for each batch\n",
    "    running_accuracy = []  # Number of good prediction for each batch\n",
    "    n_words = []  # List of number of words for each  batch\n",
    "\n",
    "    for idx, data in enumerate(loader):\n",
    "        optimizer.zero_grad()\n",
    "        x = data[:, :-1]\n",
    "        y = data[:, 1:]\n",
    "\n",
    "        x = x.to(device)\n",
    "        y = y.to(device)\n",
    "\n",
    "        y_hat = model(x)\n",
    "        loss = ce_loss(y_hat.transpose(1,2), y)\n",
    "\n",
    "        loss.backward()\n",
    "        optimizer.step()\n",
    "\n",
    "        running_loss.append(loss.item())\n",
    "        running_accuracy.append(torch.sum( y == torch.argmax(y_hat, dim=-1)).item())\n",
    "        n_words.append(y.shape[0] * y.shape[1])\n",
    "        print(f'{idx} {np.mean(running_loss):.4f}', end='\\r')  # Output the average loss so far in this epoch\n",
    "\n",
    "    tac = perf_counter()\n",
    "    time = tac - tic  # Time for one epoch\n",
    "    total_time += time\n",
    "\n",
    "    epoch_accuracy = np.sum(running_accuracy) / np.sum(n_words)\n",
    "    epoch_loss = np.sum(np.array(running_loss) * np.array(n_words)) / np.sum(n_words)\n",
    "    epoch_accuracies.append(epoch_accuracy)\n",
    "    epoch_losses.append(epoch_loss)\n",
    "    print(f'epoch {epoch} loss : {epoch_loss:.3f} accuracy: {epoch_accuracy:.3%}')\n",
    "\n",
    "print(f'Average time by epoch :{total_time / epoch:.1f} s')\n",
    "model.to('cpu')\n"
   ]
  },
  {
   "cell_type": "code",
   "execution_count": null,
   "id": "fe82e84a",
   "metadata": {},
   "outputs": [],
   "source": [
    "torch.save(model, 'outputs/model.pt')\n",
    "\n",
    "\n",
    "with open('outputs/vocabulary.csv', 'w', newline='') as csvfile:\n",
    "    dicowriter = csv.writer(csvfile, delimiter=' ',quoting=csv.QUOTE_ALL)\n",
    "    for word in dataset.vocabulary:\n",
    "        dicowriter.writerow([word])"
   ]
  },
  {
   "cell_type": "code",
   "execution_count": null,
   "id": "17f47d31",
   "metadata": {},
   "outputs": [],
   "source": [
    "\n",
    "\n",
    "\n",
    "\n"
   ]
  },
  {
   "cell_type": "code",
   "execution_count": null,
   "id": "fae812b7",
   "metadata": {},
   "outputs": [],
   "source": [
    "with open('outputs/vocabulary.csv', newline='') as csvfile:\n",
    "    dicoreader = csv.reader(csvfile, delimiter=' ')\n",
    "    vocabulary = [ row[0] for row in dicoreader ]\n",
    "\n",
    "model = torch.load('outputs/model.pt')\n",
    "model.eval() \n",
    "\n",
    "start = '<SOS>  '\n",
    "generate_text(model, vocabulary, start, length=35)"
   ]
  },
  {
   "cell_type": "code",
   "execution_count": null,
   "id": "02345a29",
   "metadata": {},
   "outputs": [],
   "source": []
  },
  {
   "cell_type": "code",
   "execution_count": null,
   "id": "2a34c523",
   "metadata": {},
   "outputs": [],
   "source": []
  }
 ],
 "metadata": {
  "hide_input": false,
  "kernelspec": {
   "display_name": "Text_data_analysis",
   "language": "python",
   "name": "text_data_analysis"
  },
  "language_info": {
   "codemirror_mode": {
    "name": "ipython",
    "version": 3
   },
   "file_extension": ".py",
   "mimetype": "text/x-python",
   "name": "python",
   "nbconvert_exporter": "python",
   "pygments_lexer": "ipython3",
   "version": "3.10.4"
  }
 },
 "nbformat": 4,
 "nbformat_minor": 5
}
